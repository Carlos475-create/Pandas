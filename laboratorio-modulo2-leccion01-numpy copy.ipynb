{
 "cells": [
  {
   "cell_type": "markdown",
   "id": "6db588db",
   "metadata": {},
   "source": [
    "<div style=\"text-align: center;\">\n",
    "  <img src=\"https://github.com/Hack-io-Data/Imagenes/blob/main/01-LogosHackio/logo_naranja@4x.png?raw=true\" alt=\"esquema\" />\n",
    "</div>"
   ]
  },
  {
   "cell_type": "code",
   "execution_count": 6,
   "id": "11d3f85f",
   "metadata": {},
   "outputs": [],
   "source": [
    "import os"
   ]
  },
  {
   "cell_type": "code",
   "execution_count": 7,
   "id": "64ff9293",
   "metadata": {},
   "outputs": [
    {
     "data": {
      "text/plain": [
       "['.DS_Store',\n",
       " 'modulo2-leccion02-pandas-basicos copy.ipynb',\n",
       " 'Prueba_arrays.ipynb',\n",
       " 'filtrado_array.ipynb',\n",
       " 'laboratorio-modulo1-leccion01-manejo-errores.ipynb',\n",
       " 'pruebas_pandas.ipynb',\n",
       " 'mi_repaso_sentencias_control.ipynb',\n",
       " 'laboratorio-modulo1-leccion01-break-pass-continue.ipynb',\n",
       " 'laboratorio-modulo1-leccion02-clases.ipynb',\n",
       " 'laboratorio-modulo2-leccion01-numpy copy.ipynb',\n",
       " 'mi_repaso_dict.ipynb',\n",
       " '.git']"
      ]
     },
     "execution_count": 7,
     "metadata": {},
     "output_type": "execute_result"
    }
   ],
   "source": [
    "datos = os.listdir()\n",
    "datos"
   ]
  },
  {
   "cell_type": "code",
   "execution_count": 8,
   "id": "74e36252",
   "metadata": {},
   "outputs": [
    {
     "name": "stderr",
     "output_type": "stream",
     "text": [
      "<>:1: SyntaxWarning: invalid escape sequence '\\d'\n",
      "<>:1: SyntaxWarning: invalid escape sequence '\\d'\n",
      "/var/folders/r4/jsr6jl3d5js8g1ztlswntdr80000gp/T/ipykernel_4290/1996085454.py:1: SyntaxWarning: invalid escape sequence '\\d'\n",
      "  diccioanrio_df = {diccioanrio_df[re.findall(\"\\d{4}\", i)[0]] : pd.read_csv(f\"..dato/{i}\") for i in datos}\n"
     ]
    },
    {
     "ename": "NameError",
     "evalue": "name 'diccioanrio_df' is not defined",
     "output_type": "error",
     "traceback": [
      "\u001b[0;31m---------------------------------------------------------------------------\u001b[0m",
      "\u001b[0;31mNameError\u001b[0m                                 Traceback (most recent call last)",
      "Cell \u001b[0;32mIn[8], line 1\u001b[0m\n\u001b[0;32m----> 1\u001b[0m diccioanrio_df \u001b[38;5;241m=\u001b[39m {\u001b[43mdiccioanrio_df\u001b[49m[re\u001b[38;5;241m.\u001b[39mfindall(\u001b[38;5;124m\"\u001b[39m\u001b[38;5;124m\\\u001b[39m\u001b[38;5;124md\u001b[39m\u001b[38;5;132;01m{4}\u001b[39;00m\u001b[38;5;124m\"\u001b[39m, i)[\u001b[38;5;241m0\u001b[39m]] : pd\u001b[38;5;241m.\u001b[39mread_csv(\u001b[38;5;124mf\u001b[39m\u001b[38;5;124m\"\u001b[39m\u001b[38;5;124m..dato/\u001b[39m\u001b[38;5;132;01m{\u001b[39;00mi\u001b[38;5;132;01m}\u001b[39;00m\u001b[38;5;124m\"\u001b[39m) \u001b[38;5;28;01mfor\u001b[39;00m i \u001b[38;5;129;01min\u001b[39;00m datos}\n\u001b[1;32m      3\u001b[0m diccioanrio_df \u001b[38;5;241m=\u001b[39m {}\n\u001b[1;32m      4\u001b[0m \u001b[38;5;28;01mfor\u001b[39;00m i \u001b[38;5;129;01min\u001b[39;00m datos:\n",
      "\u001b[0;31mNameError\u001b[0m: name 'diccioanrio_df' is not defined"
     ]
    }
   ],
   "source": [
    "diccioanrio_df = {diccioanrio_df[re.findall(\"\\d{4}\", i)[0]] : pd.read_csv(f\"..dato/{i}\") for i in datos}\n",
    "\n",
    "diccioanrio_df = {}\n",
    "for i in datos:\n",
    "    df = pd.read_csv(i)\n",
    "    diccioanrio_df[i.spl]\n"
   ]
  },
  {
   "cell_type": "markdown",
   "id": "11308d6c",
   "metadata": {},
   "source": [
    "for i in datos\n",
    "# Laboratorio de NumPy"
   ]
  },
  {
   "cell_type": "markdown",
   "id": "a19d4596",
   "metadata": {},
   "source": [
    "#### Ejercicio 1 - Crea un array de 1D con los números del 0 al 9."
   ]
  },
  {
   "cell_type": "code",
   "execution_count": 2,
   "id": "9d4e1d42",
   "metadata": {},
   "outputs": [],
   "source": [
    "import numpy as np"
   ]
  },
  {
   "cell_type": "code",
   "execution_count": 3,
   "id": "ebcf4f5c",
   "metadata": {},
   "outputs": [
    {
     "name": "stdout",
     "output_type": "stream",
     "text": [
      "[0 1 2 3 4 5 6 7 8 9]\n"
     ]
    }
   ],
   "source": [
    "array_1d = np.arange(10)\n",
    "print(array_1d)"
   ]
  },
  {
   "cell_type": "markdown",
   "id": "f4a41f16",
   "metadata": {},
   "source": [
    "#### Ejercicio 2 - Convierte un array 1D en un array 2D con 2 filas y 5 columnas."
   ]
  },
  {
   "cell_type": "code",
   "execution_count": 4,
   "id": "3d7cef3c",
   "metadata": {},
   "outputs": [
    {
     "name": "stdout",
     "output_type": "stream",
     "text": [
      "[[0 1 2 3 4]\n",
      " [5 6 7 8 9]]\n",
      "Este es el número de filas y columnas que tiene el nuevo array: (2, 5)\n",
      "El nuevo array tiene 2 dimensiones\n"
     ]
    }
   ],
   "source": [
    "array_2d = array_1d.reshape(2, 5)\n",
    "\n",
    "print(array_2d)\n",
    "\n",
    "print(f\"Este es el número de filas y columnas que tiene el nuevo array: {array_2d.shape}\")\n",
    "\n",
    "print(f\"El nuevo array tiene {array_2d.ndim} dimensiones\")"
   ]
  },
  {
   "cell_type": "markdown",
   "id": "86bb8999",
   "metadata": {},
   "source": [
    "#### Ejercicio 3 - Encuentra los índices de los elementos con valor distinto de 0 en el siguiente array: [0, 2, 0, 3, 0, 4, 0]."
   ]
  },
  {
   "cell_type": "code",
   "execution_count": 5,
   "id": "d1fcfca4",
   "metadata": {},
   "outputs": [
    {
     "name": "stdout",
     "output_type": "stream",
     "text": [
      "El array que vamos a utilizar es el siguiente: [0 2 0 3 0 4 0]\n",
      "Estos son los índices que contienen valores distintos de 0: (array([1, 3, 5]),)\n"
     ]
    }
   ],
   "source": [
    "lista_ceros = [0, 2, 0, 3, 0, 4, 0]\n",
    "\n",
    "array_ceros = np.array(lista_ceros)\n",
    "\n",
    "print(f\"El array que vamos a utilizar es el siguiente: {array_ceros}\")\n",
    "\n",
    "print(f\"Estos son los índices que contienen valores distintos de 0: {np.nonzero(array_ceros)}\")"
   ]
  },
  {
   "cell_type": "markdown",
   "id": "1c548419",
   "metadata": {},
   "source": [
    "#### Ejercicio 4 - Crea un array 3x3 con valores aleatorios entre 0 y 1."
   ]
  },
  {
   "cell_type": "code",
   "execution_count": 6,
   "id": "e1d4f19f",
   "metadata": {},
   "outputs": [
    {
     "name": "stdout",
     "output_type": "stream",
     "text": [
      "[[0.24668957 0.72716415 0.02789609]\n",
      " [0.85081964 0.4513202  0.84363955]\n",
      " [0.3582661  0.28384928 0.39888747]]\n"
     ]
    }
   ],
   "source": [
    "array_3d = np.random.random_sample((3, 3))\n",
    "print(array_3d)"
   ]
  },
  {
   "cell_type": "markdown",
   "id": "aee82811",
   "metadata": {},
   "source": [
    "#### Ejercicio 5 - Crea un array de 10 números aleatorios y encuentra el valor máximo y mínimo."
   ]
  },
  {
   "cell_type": "code",
   "execution_count": 7,
   "id": "81fea76e",
   "metadata": {},
   "outputs": [
    {
     "name": "stdout",
     "output_type": "stream",
     "text": [
      "[[82 93  7 57 56]\n",
      " [87 70 50 13 67]]\n",
      "El valor máximo del array es 93\n",
      "El valor mínimo del array es 7\n"
     ]
    }
   ],
   "source": [
    "array_min_max = np.random.randint(0, 100, (2, 5))\n",
    "print(array_min_max)\n",
    "\n",
    "valor_max = np.max(array_min_max)\n",
    "valor_min = np.min(array_min_max)\n",
    "\n",
    "print(f\"El valor máximo del array es {valor_max}\")\n",
    "print(f\"El valor mínimo del array es {valor_min}\")\n"
   ]
  },
  {
   "cell_type": "markdown",
   "id": "6559375b",
   "metadata": {},
   "source": [
    "#### Ejercicio 6 - Crea un array de una dimensión e inviértelo. "
   ]
  },
  {
   "cell_type": "code",
   "execution_count": 8,
   "id": "31385db0",
   "metadata": {},
   "outputs": [
    {
     "name": "stdout",
     "output_type": "stream",
     "text": [
      "Este es el array original[0 1 2 3 4 5 6 7 8 9]\n",
      "1\n",
      "Este es el array ivnvertido[9 8 7 6 5 4 3 2 1 0]\n"
     ]
    }
   ],
   "source": [
    "array_normal = np.arange(10)\n",
    "print(f\"Este es el array original{array_normal}\")\n",
    "print(array_normal.ndim)\n",
    "\n",
    "array_invertido = array_normal[::-1]\n",
    "print(f\"Este es el array ivnvertido{array_invertido}\")"
   ]
  },
  {
   "cell_type": "markdown",
   "id": "4457f046",
   "metadata": {},
   "source": [
    "\n",
    "#### Ejercicio 6 - Genera un array tridimensional de dimensiones (2, 3, 4) con valores enteros del 1 al 24.\n",
    "\n",
    "- Selecciona el primer `15` del array.\n",
    "\n",
    "- Selecciona todos los elementos del primer array. \n",
    "\n",
    "- Selecciona la última fila del último array\n"
   ]
  },
  {
   "cell_type": "code",
   "execution_count": 9,
   "id": "3cab04c9",
   "metadata": {},
   "outputs": [
    {
     "name": "stdout",
     "output_type": "stream",
     "text": [
      "[[[18  5 16 15]\n",
      "  [19 22  4 18]\n",
      "  [19 12  4 24]]\n",
      "\n",
      " [[19 24 23  5]\n",
      "  [23  8  2 24]\n",
      "  [13  1  9  7]]]\n"
     ]
    }
   ],
   "source": [
    "array_tridi = np.random.randint(1, 25, (2, 3, 4))\n",
    "print(array_tridi)"
   ]
  },
  {
   "cell_type": "code",
   "execution_count": 10,
   "id": "a2e5ff36",
   "metadata": {},
   "outputs": [
    {
     "name": "stdout",
     "output_type": "stream",
     "text": [
      "3\n"
     ]
    }
   ],
   "source": [
    "print(array_tridi.ndim)"
   ]
  },
  {
   "cell_type": "code",
   "execution_count": 11,
   "id": "4b252dad",
   "metadata": {},
   "outputs": [
    {
     "name": "stdout",
     "output_type": "stream",
     "text": [
      "El primero 15 que aparece es el siguiente: 23\n",
      "El primer array completo es: [[18  5 16 15]\n",
      " [19 22  4 18]\n",
      " [19 12  4 24]]\n",
      "La útlima fila del útlimo es array es: [13  1  9  7]\n"
     ]
    }
   ],
   "source": [
    "print(f\"El primero 15 que aparece es el siguiente: {array_tridi[1, 0, 2]}\")\n",
    "print(f\"El primer array completo es: {array_tridi[0, ::]}\")\n",
    "print(f\"La útlima fila del útlimo es array es: {array_tridi[1, 2, :]}\")"
   ]
  },
  {
   "cell_type": "markdown",
   "id": "681b7e4e",
   "metadata": {},
   "source": [
    "\n",
    "#### Ejercicio 7 - Genera un array tridimensional de dimensiones (3, 2, 5) con valores enteros del 1 al 30.\n",
    "\n",
    "- Selecciona el subarray que contiene los dos primeros elementos de cada fila del primer array.\n",
    "\n",
    "- Selecciona el subarray que contiene todas las filas de los dos últimos arrays.\n"
   ]
  },
  {
   "cell_type": "code",
   "execution_count": 12,
   "id": "b008a9aa",
   "metadata": {},
   "outputs": [
    {
     "name": "stdout",
     "output_type": "stream",
     "text": [
      "[[[23 18  4 15 25]\n",
      "  [10 24 15 24 28]]\n",
      "\n",
      " [[22 25  3 12  4]\n",
      "  [26  7 10 28 20]]\n",
      "\n",
      " [[ 7 23  3 14  8]\n",
      "  [24  7 17  6 22]]]\n"
     ]
    }
   ],
   "source": [
    "array_tri_1_30 = np.random.randint(1, 31, (3, 2, 5))\n",
    "print(array_tri_1_30)"
   ]
  },
  {
   "cell_type": "code",
   "execution_count": 13,
   "id": "056a9558",
   "metadata": {},
   "outputs": [
    {
     "name": "stdout",
     "output_type": "stream",
     "text": [
      "[[23 18]\n",
      " [10 24]]\n"
     ]
    }
   ],
   "source": [
    "print(array_tri_1_30[0, :, :2 ])"
   ]
  },
  {
   "cell_type": "code",
   "execution_count": 14,
   "id": "8e388c9f",
   "metadata": {},
   "outputs": [
    {
     "name": "stdout",
     "output_type": "stream",
     "text": [
      "[[[22 25  3 12  4]\n",
      "  [26  7 10 28 20]]\n",
      "\n",
      " [[ 7 23  3 14  8]\n",
      "  [24  7 17  6 22]]]\n"
     ]
    }
   ],
   "source": [
    "print(array_tri_1_30[1:, :, :])"
   ]
  },
  {
   "cell_type": "markdown",
   "id": "4fabd9d0",
   "metadata": {},
   "source": [
    "#### Ejercicio 8 - Genera un array tridimensional de dimensiones (4, 3, 2) con valores enteros del 1 al 24.\n",
    "\n",
    "- Cambia todos los elementos de la segunda fila del segundo array por `0`.\n",
    "\n",
    "- Cambia todos los valores del último array a `-1`.\n"
   ]
  },
  {
   "cell_type": "code",
   "execution_count": 15,
   "id": "0ef45b69",
   "metadata": {},
   "outputs": [
    {
     "name": "stdout",
     "output_type": "stream",
     "text": [
      "[[[16 17]\n",
      "  [10 24]\n",
      "  [23 13]]\n",
      "\n",
      " [[22  4]\n",
      "  [22 22]\n",
      "  [15 16]]\n",
      "\n",
      " [[12 22]\n",
      "  [ 9 11]\n",
      "  [15 13]]\n",
      "\n",
      " [[ 2  4]\n",
      "  [14 14]\n",
      "  [ 5 19]]]\n"
     ]
    }
   ],
   "source": [
    "array_432 = np.random.randint(1, 25, (4, 3, 2))\n",
    "print(array_432)"
   ]
  },
  {
   "cell_type": "code",
   "execution_count": 16,
   "id": "5430c51f",
   "metadata": {},
   "outputs": [
    {
     "name": "stdout",
     "output_type": "stream",
     "text": [
      "[[[16 17]\n",
      "  [10 24]\n",
      "  [23 13]]\n",
      "\n",
      " [[22  4]\n",
      "  [ 0  0]\n",
      "  [15 16]]\n",
      "\n",
      " [[12 22]\n",
      "  [ 9 11]\n",
      "  [15 13]]\n",
      "\n",
      " [[ 2  4]\n",
      "  [14 14]\n",
      "  [ 5 19]]]\n"
     ]
    }
   ],
   "source": [
    "array_432[1, 1, :]= 0\n",
    "print(array_432)"
   ]
  },
  {
   "cell_type": "code",
   "execution_count": 17,
   "id": "6655f10a",
   "metadata": {},
   "outputs": [
    {
     "name": "stdout",
     "output_type": "stream",
     "text": [
      "[[[16 17]\n",
      "  [10 24]\n",
      "  [23 13]]\n",
      "\n",
      " [[22  4]\n",
      "  [ 0  0]\n",
      "  [15 16]]\n",
      "\n",
      " [[12 22]\n",
      "  [ 9 11]\n",
      "  [15 13]]\n",
      "\n",
      " [[-1 -1]\n",
      "  [-1 -1]\n",
      "  [-1 -1]]]\n"
     ]
    }
   ],
   "source": [
    "array_432[3, :, :] = -1\n",
    "print(array_432)"
   ]
  },
  {
   "cell_type": "markdown",
   "id": "c60bc3bb",
   "metadata": {},
   "source": [
    "\n",
    "#### Ejercicio 9 - Genera un array tridimensional de dimensiones (2, 4, 3) con valores enteros del -10 al 13.\n",
    "\n",
    "- Selecciona todos los elementos mayores a `5`.\n",
    "\n",
    "- Reemplaza todos los elementos negativos por `0`.\n"
   ]
  },
  {
   "cell_type": "code",
   "execution_count": 18,
   "id": "28bf9232",
   "metadata": {},
   "outputs": [
    {
     "name": "stdout",
     "output_type": "stream",
     "text": [
      "[[[ -6   6  -4]\n",
      "  [ -5  11   2]\n",
      "  [  1  -9   3]\n",
      "  [ -1  -6  -5]]\n",
      "\n",
      " [[-10  11   2]\n",
      "  [ -2   7  -2]\n",
      "  [  6  -5   5]\n",
      "  [ 10  -1  -4]]]\n"
     ]
    }
   ],
   "source": [
    "array_243 = np.random.randint(-10, 13, (2, 4, 3))\n",
    "print(array_243)"
   ]
  },
  {
   "cell_type": "code",
   "execution_count": 19,
   "id": "34feebea",
   "metadata": {},
   "outputs": [
    {
     "name": "stdout",
     "output_type": "stream",
     "text": [
      "[ 6 11 11  7  6 10]\n"
     ]
    }
   ],
   "source": [
    "elementos = 5\n",
    "\n",
    "print(array_243[array_243 > elementos])\n"
   ]
  },
  {
   "cell_type": "code",
   "execution_count": 20,
   "id": "441092a2",
   "metadata": {},
   "outputs": [
    {
     "name": "stdout",
     "output_type": "stream",
     "text": [
      "[[[ 0  6  0]\n",
      "  [ 0 11  2]\n",
      "  [ 1  0  3]\n",
      "  [ 0  0  0]]\n",
      "\n",
      " [[ 0 11  2]\n",
      "  [ 0  7  0]\n",
      "  [ 6  0  5]\n",
      "  [10  0  0]]]\n"
     ]
    }
   ],
   "source": [
    "resultado = np.where(array_243 < 0, 0, array_243)\n",
    "print(resultado)"
   ]
  },
  {
   "cell_type": "markdown",
   "id": "ab38a3be",
   "metadata": {},
   "source": [
    "#### Ejercicio 10 - Genera un array tridimensional de dimensiones (3, 3, 3) con valores enteros del 1 al 27.\n",
    "\n",
    "- Selecciona el subarray del segundo array que contenga solo las dos primeras columnas.\n",
    "\n",
    "- Selecciona todos los elementos del tercer array que sean mayores que `20`.\n"
   ]
  },
  {
   "cell_type": "code",
   "execution_count": 36,
   "id": "78c979cf",
   "metadata": {},
   "outputs": [
    {
     "name": "stdout",
     "output_type": "stream",
     "text": [
      "[[[25 12 20]\n",
      "  [ 9  3  4]\n",
      "  [ 8 19  5]]\n",
      "\n",
      " [[11 25 11]\n",
      "  [17  5  9]\n",
      "  [14  9 17]]\n",
      "\n",
      " [[22 18  4]\n",
      "  [ 5  4 21]\n",
      "  [21  3 16]]]\n"
     ]
    }
   ],
   "source": [
    "array_333 = np.random.randint(1, 28, (3, 3, 3))\n",
    "print(array_333)"
   ]
  },
  {
   "cell_type": "code",
   "execution_count": 37,
   "id": "f4361281",
   "metadata": {},
   "outputs": [
    {
     "name": "stdout",
     "output_type": "stream",
     "text": [
      "[[11 25]\n",
      " [17  5]\n",
      " [14  9]]\n"
     ]
    }
   ],
   "source": [
    "subarray1 = array_333[1, :, :2]\n",
    "print(subarray1)"
   ]
  },
  {
   "cell_type": "code",
   "execution_count": 41,
   "id": "20ffa68d",
   "metadata": {},
   "outputs": [
    {
     "name": "stdout",
     "output_type": "stream",
     "text": [
      "[22 21 21]\n"
     ]
    }
   ],
   "source": [
    "filtro1 = array_333[2, :, :]\n",
    "elementos2 = np.where(filtro1 > 20)\n",
    "valores_mayor_20 = filtro1[elementos2]\n",
    "print(valores_mayor_20)"
   ]
  },
  {
   "cell_type": "markdown",
   "id": "f1a00156",
   "metadata": {},
   "source": [
    "#### Ejercicio 11 - Crea un array de 10 números aleatorios y reemplaza los valores máximos y mínimos por 0."
   ]
  },
  {
   "cell_type": "code",
   "execution_count": 46,
   "id": "990fa526",
   "metadata": {},
   "outputs": [
    {
     "name": "stdout",
     "output_type": "stream",
     "text": [
      "[[66 79 99 66 23]\n",
      " [19 21  4 76 28]]\n"
     ]
    }
   ],
   "source": [
    "array_aleatorio = np.random.randint(1, 100, (2, 5))\n",
    "print(array_aleatorio)"
   ]
  },
  {
   "cell_type": "code",
   "execution_count": 21,
   "id": "aba1a391",
   "metadata": {},
   "outputs": [
    {
     "ename": "NameError",
     "evalue": "name 'array_aleatorio' is not defined",
     "output_type": "error",
     "traceback": [
      "\u001b[0;31m---------------------------------------------------------------------------\u001b[0m",
      "\u001b[0;31mNameError\u001b[0m                                 Traceback (most recent call last)",
      "Cell \u001b[0;32mIn[21], line 1\u001b[0m\n\u001b[0;32m----> 1\u001b[0m max_value \u001b[38;5;241m=\u001b[39m np\u001b[38;5;241m.\u001b[39mmax(\u001b[43marray_aleatorio\u001b[49m)\n\u001b[1;32m      2\u001b[0m min_value \u001b[38;5;241m=\u001b[39m np\u001b[38;5;241m.\u001b[39mmin(array_aleatorio)\n\u001b[1;32m      4\u001b[0m max_index \u001b[38;5;241m=\u001b[39m np\u001b[38;5;241m.\u001b[39mwhere(array_aleatorio \u001b[38;5;241m==\u001b[39m max_value)\n",
      "\u001b[0;31mNameError\u001b[0m: name 'array_aleatorio' is not defined"
     ]
    }
   ],
   "source": [
    "max_value = np.max(array_aleatorio)\n",
    "min_value = np.min(array_aleatorio)\n",
    "\n",
    "max_index = np.where(array_aleatorio == max_value)\n",
    "min_index = np.where(array_aleatorio == min_value)\n",
    "\n",
    "array_aleatorio[max_index[0]] = 0\n",
    "array_aleatorio[min_index[0]] = 0\n",
    "\n",
    "print(array_aleatorio)"
   ]
  },
  {
   "cell_type": "markdown",
   "id": "781fafd0",
   "metadata": {},
   "source": [
    "#### Ejercicio 12 - Genera un array de 15 números aleatorios enteros entre 1 y 100 y reordénalo en orden ascendente."
   ]
  },
  {
   "cell_type": "code",
   "execution_count": 22,
   "id": "caa4fd47",
   "metadata": {},
   "outputs": [
    {
     "name": "stdout",
     "output_type": "stream",
     "text": [
      "Este es el array original [[51 86 99 44  5]\n",
      " [89 89 16 83  5]\n",
      " [30 56 55 73 92]]\n",
      "Este es el array ordenado en orden ascendente [[ 5 44 51 86 99]\n",
      " [ 5 16 83 89 89]\n",
      " [30 55 56 73 92]]\n"
     ]
    }
   ],
   "source": [
    "array15 = np.random.randint(1, 101,(3, 5))\n",
    "print(f\"Este es el array original {array15}\")\n",
    "\n",
    "array_ascendente = np.sort(array15)\n",
    "print(f\"Este es el array ordenado en orden ascendente {array_ascendente}\")"
   ]
  },
  {
   "cell_type": "markdown",
   "id": "45f10c3e",
   "metadata": {},
   "source": [
    "#### Ejercicio 11 - Calcula la suma de los elementos a lo largo de las filas y columnas en una matriz 4x4."
   ]
  },
  {
   "cell_type": "code",
   "execution_count": 33,
   "id": "90220788",
   "metadata": {},
   "outputs": [
    {
     "name": "stdout",
     "output_type": "stream",
     "text": [
      "[[65 99 55 28]\n",
      " [ 8 60 21  8]\n",
      " [28 88 34 40]\n",
      " [78 97 67 21]]\n",
      "El resultado de la suma de las filas es: [247  97 190 263]\n"
     ]
    }
   ],
   "source": [
    "array_4_4 = np.random.randint(1, 100,(4, 4))\n",
    "print(array_4_4)\n",
    "\n",
    "suma_filas = array_4_4.sum(axis=1)\n",
    "print(f\"El resultado de la suma de las filas es: {suma_filas}\")"
   ]
  },
  {
   "cell_type": "markdown",
   "id": "69b9751a",
   "metadata": {},
   "source": [
    "#### Ejercicio 12 - Crea una matriz de 5x5 con valores en el borde igual a 1 y en el interior igual a 0."
   ]
  },
  {
   "cell_type": "code",
   "execution_count": null,
   "id": "eca81323",
   "metadata": {},
   "outputs": [],
   "source": []
  },
  {
   "cell_type": "markdown",
   "id": "1ea8068d",
   "metadata": {},
   "source": [
    "#### Ejercicio 13 - Calcula la media y la desviación estándar de un array de 10 números aleatorios."
   ]
  },
  {
   "cell_type": "code",
   "execution_count": 34,
   "id": "05dd579d",
   "metadata": {},
   "outputs": [
    {
     "name": "stdout",
     "output_type": "stream",
     "text": [
      "[[ 4 10  6  1  9]\n",
      " [ 6  4  1  7  2]]\n"
     ]
    }
   ],
   "source": [
    "array_random = np.random.randint(1, 11, (2, 5))\n",
    "print(array_random)"
   ]
  },
  {
   "cell_type": "code",
   "execution_count": 38,
   "id": "0b6071dd",
   "metadata": {},
   "outputs": [
    {
     "name": "stdout",
     "output_type": "stream",
     "text": [
      "La media de mi array es: 5.0\n",
      "La desviación estándar en mi array es: 3.0\n"
     ]
    }
   ],
   "source": [
    "media_array = array_random.mean()\n",
    "print(f\"La media de mi array es: {media_array}\")\n",
    "\n",
    "desv_est_array = array_random.std()\n",
    "print(f\"La desviación estándar en mi array es: {desv_est_array}\")"
   ]
  },
  {
   "cell_type": "markdown",
   "id": "6add6669",
   "metadata": {},
   "source": [
    "#### Ejercicio 14 - Genera un array tridimensional de dimensiones (2, 3, 4) con valores enteros del 1 al 24.\n",
    "\n",
    "- Transpón el array para intercambiar los ejes de la forma (2, 3, 4) a (4, 3, 2).\n",
    "\n",
    "- Observa cómo cambian las posiciones de los elementos y sus índices después de la transposición. Explica en una celda de markdown que es lo que ha pasado. \n"
   ]
  },
  {
   "cell_type": "code",
   "execution_count": 48,
   "id": "ae98aca5",
   "metadata": {},
   "outputs": [
    {
     "name": "stdout",
     "output_type": "stream",
     "text": [
      "[[[ 6 18 18 14]\n",
      "  [24 23 24  6]\n",
      "  [ 6 17  1  9]]\n",
      "\n",
      " [[ 5 18  2  2]\n",
      "  [20 13  1 15]\n",
      "  [ 3 16 10 12]]]\n",
      "Este array tiene 3 dimensiones\n",
      "{(2, 3, 4)}\n"
     ]
    }
   ],
   "source": [
    "array_transpose = np.random.randint(1, 25, (2, 3, 4))\n",
    "print(array_transpose)\n",
    "print(f\"Este array tiene {array_transpose.ndim} dimensiones\")\n",
    "print({array_transpose.shape})"
   ]
  },
  {
   "cell_type": "code",
   "execution_count": 49,
   "id": "41e1ef5b",
   "metadata": {},
   "outputs": [
    {
     "name": "stdout",
     "output_type": "stream",
     "text": [
      "[[[ 6  5]\n",
      "  [24 20]\n",
      "  [ 6  3]]\n",
      "\n",
      " [[18 18]\n",
      "  [23 13]\n",
      "  [17 16]]\n",
      "\n",
      " [[18  2]\n",
      "  [24  1]\n",
      "  [ 1 10]]\n",
      "\n",
      " [[14  2]\n",
      "  [ 6 15]\n",
      "  [ 9 12]]]\n",
      "(4, 3, 2)\n"
     ]
    }
   ],
   "source": [
    "array_transpuesto = array_transpose.T\n",
    "print(array_transpuesto)\n",
    "print(array_transpuesto.shape)"
   ]
  },
  {
   "cell_type": "markdown",
   "id": "d500cc8b",
   "metadata": {},
   "source": [
    "## Explicación\n",
    "En este caso hemos cambiado de 2 a 4 dimensiones, el número de columnas también ha cambiado a ser de 4 a 2. El número de filas no ha cambiado ya que se encuentra en el centro y es respecto al cual 'pivota' el array al utilizar la función 'T'"
   ]
  },
  {
   "cell_type": "markdown",
   "id": "1e32b5e6",
   "metadata": {},
   "source": [
    "#### Ejercicio 15 - Genera un array tridimensional de dimensiones (3, 4, 2) con valores enteros del 1 al 24.\n",
    "\n",
    "- Transpón el array para intercambiar el primer y segundo eje, de manera que la nueva forma del array sea (4, 3, 2).\n"
   ]
  },
  {
   "cell_type": "code",
   "execution_count": 45,
   "id": "0146fdd6",
   "metadata": {},
   "outputs": [
    {
     "name": "stdout",
     "output_type": "stream",
     "text": [
      "[[[ 6  2]\n",
      "  [ 7 16]\n",
      "  [18 19]\n",
      "  [ 3  6]]\n",
      "\n",
      " [[ 1 12]\n",
      "  [10  4]\n",
      "  [21 18]\n",
      "  [16  5]]\n",
      "\n",
      " [[18  2]\n",
      "  [ 8  8]\n",
      "  [ 3 23]\n",
      "  [ 7 10]]]\n",
      "EL array tiene 3 dimensiones\n",
      "Las dimensiones son (3, 4, 2)\n"
     ]
    }
   ],
   "source": [
    "array_swap_original = np.random.randint(1, 25, (3, 4, 2))\n",
    "print(array_swap_original)\n",
    "print(f\"EL array tiene {array_swap_original.ndim} dimensiones\")\n",
    "print(f\"Las dimensiones son {array_swap_original.shape}\")"
   ]
  },
  {
   "cell_type": "code",
   "execution_count": 46,
   "id": "ad575256",
   "metadata": {},
   "outputs": [
    {
     "name": "stdout",
     "output_type": "stream",
     "text": [
      "[[[ 6  2]\n",
      "  [ 1 12]\n",
      "  [18  2]]\n",
      "\n",
      " [[ 7 16]\n",
      "  [10  4]\n",
      "  [ 8  8]]\n",
      "\n",
      " [[18 19]\n",
      "  [21 18]\n",
      "  [ 3 23]]\n",
      "\n",
      " [[ 3  6]\n",
      "  [16  5]\n",
      "  [ 7 10]]]\n",
      "El array nuevo tiene 3 dimensiones\n",
      "Las dimensiones del nuevo array son (4, 3, 2)\n"
     ]
    }
   ],
   "source": [
    "array_swap = np.swapaxes(array_swap_original, 0, 1)\n",
    "print(array_swap)\n",
    "print(f\"El array nuevo tiene {array_swap.ndim} dimensiones\")\n",
    "print(f\"Las dimensiones del nuevo array son {array_swap.shape}\")"
   ]
  },
  {
   "cell_type": "markdown",
   "id": "fcf92586",
   "metadata": {},
   "source": [
    "#### Ejercicio 16 - Genera un array tridimensional de dimensiones (3, 2, 4) con valores enteros del 1 al 24.\n",
    "\n",
    "- Realiza una rotación completa de los ejes para convertir la forma original (3, 2, 4) en (4, 3, 2).\n"
   ]
  },
  {
   "cell_type": "code",
   "execution_count": 47,
   "id": "dd2c7f27",
   "metadata": {},
   "outputs": [
    {
     "name": "stdout",
     "output_type": "stream",
     "text": [
      "[[[15 23 14 10]\n",
      "  [ 9  9 13  7]]\n",
      "\n",
      " [[ 6 23 23  4]\n",
      "  [ 2 19 21  9]]\n",
      "\n",
      " [[21  5 17 19]\n",
      "  [ 1 24 16 19]]]\n",
      "El array tiene 3 dimensiones\n",
      "Las dimensiones son (3, 2, 4)\n"
     ]
    }
   ],
   "source": [
    "array_rotacion = np.random.randint(1, 25, (3, 2, 4))\n",
    "print(array_rotacion)\n",
    "print(f\"El array tiene {array_rotacion.ndim} dimensiones\")\n",
    "print(f\"Las dimensiones son {array_rotacion.shape}\")"
   ]
  },
  {
   "cell_type": "code",
   "execution_count": 51,
   "id": "dfa03c67",
   "metadata": {},
   "outputs": [
    {
     "name": "stdout",
     "output_type": "stream",
     "text": [
      "[[[15  9]\n",
      "  [ 6  2]\n",
      "  [21  1]]\n",
      "\n",
      " [[23  9]\n",
      "  [23 19]\n",
      "  [ 5 24]]\n",
      "\n",
      " [[14 13]\n",
      "  [23 21]\n",
      "  [17 16]]\n",
      "\n",
      " [[10  7]\n",
      "  [ 4  9]\n",
      "  [19 19]]]\n",
      "El array rotado tiene 3\n",
      "Las dimensiones del array rotado son (4, 3, 2)\n"
     ]
    }
   ],
   "source": [
    "array_360 = np.swapaxes(array_rotacion, 0, 1)\n",
    "array_360 = np.swapaxes(array_360, 0, 2 )\n",
    "print(array_360)\n",
    "print(f\"El array rotado tiene {array_360.ndim}\")\n",
    "print(f\"Las dimensiones del array rotado son {array_360.shape}\")"
   ]
  },
  {
   "cell_type": "markdown",
   "id": "1795e11f",
   "metadata": {},
   "source": [
    "#### Ejercicio 17 - Manipulación de Arrays en 3D\n",
    "\n",
    "- Crea un array tridimensional con dimensiones (3, 4, 5) cuyos elementos sean números enteros aleatorios entre -10 y 10.\n",
    "\n",
    "- Crea un array vacío con la misma forma y dimensiones que el array creado anteriormente. Luego, reemplaza los valores de la matriz vacía basada en los valores del primer array bajo las siguientes condiciones:\n",
    "\n",
    "   - Si el valor es igual a la mediana, se reemplaza por `\"M\"`.\n",
    "\n",
    "   - Si el valor es mayor que la mediana, se reemplaza por `\"X\"`.\n",
    "\n",
    "   - Si el valor es menor que la mediana, se reemplaza por `\"Y\"`.\n",
    "\n",
    "   - Si el valor es igual al máximo, se reemplaza por `\"MAX\"`.\n",
    "\n",
    "   - Si el valor es igual al mínimo, se reemplaza por `\"MIN\"`.\n"
   ]
  },
  {
   "cell_type": "code",
   "execution_count": null,
   "id": "d309b397",
   "metadata": {},
   "outputs": [],
   "source": []
  },
  {
   "cell_type": "markdown",
   "id": "83794704",
   "metadata": {},
   "source": [
    "#### Ejercicio 18 - Verificación de Filas y Columnas Iguales\n",
    "\n",
    "Crea un array bidimensional de dimensiones 4x4, escribe un código para determinar si alguna fila es exactamente igual a alguna columna.\n",
    "\n",
    "**Reglas:**\n",
    "\n",
    "- No puedes usar funciones predefinidas de NumPy para comparar filas y columnas (`np.array_equal`, etc.).\n",
    "\n",
    "- Debes resolverlo con estructuras básicas de Python (bucles, condicionales, etc.).\n",
    "\n",
    "- Debes revisar si hay al menos una fila que coincida exactamente con alguna columna.\n",
    "\n",
    "**Pistas**:\n",
    "\n",
    "- Puedes recorrer cada fila y cada columna de la matriz usando bucles.\n",
    "\n",
    "- Para comparar una fila con una columna, puedes hacerlo elemento por elemento."
   ]
  },
  {
   "cell_type": "code",
   "execution_count": null,
   "id": "afd51c60",
   "metadata": {},
   "outputs": [],
   "source": []
  }
 ],
 "metadata": {
  "kernelspec": {
   "display_name": "Python 3",
   "language": "python",
   "name": "python3"
  },
  "language_info": {
   "codemirror_mode": {
    "name": "ipython",
    "version": 3
   },
   "file_extension": ".py",
   "mimetype": "text/x-python",
   "name": "python",
   "nbconvert_exporter": "python",
   "pygments_lexer": "ipython3",
   "version": "3.12.5"
  }
 },
 "nbformat": 4,
 "nbformat_minor": 5
}
